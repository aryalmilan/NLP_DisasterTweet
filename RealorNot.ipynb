{
  "nbformat": 4,
  "nbformat_minor": 0,
  "metadata": {
    "colab": {
      "name": "RealorNot.ipynb",
      "provenance": []
    },
    "kernelspec": {
      "name": "python3",
      "display_name": "Python 3"
    },
    "accelerator": "GPU"
  },
  "cells": [
    {
      "cell_type": "code",
      "metadata": {
        "id": "iJVY7Emib1UC",
        "colab_type": "code",
        "colab": {}
      },
      "source": [
        "\n",
        "import sys\n",
        "from sklearn.model_selection import train_test_split\n",
        "import tensorflow as tf\n",
        "assert tf.__version__ >= \"2.0\"\n",
        "# Common imports\n",
        "import numpy as np\n",
        "import os\n",
        "import pandas as pd\n",
        "\n",
        "# to make this notebook's output stable across runs\n",
        "np.random.seed(42)\n"
      ],
      "execution_count": 0,
      "outputs": []
    },
    {
      "cell_type": "code",
      "metadata": {
        "id": "zDox3UgWb6Ur",
        "colab_type": "code",
        "colab": {
          "base_uri": "https://localhost:8080/",
          "height": 204
        },
        "outputId": "1923f5f4-f3ca-422e-84a0-c1715dde6247"
      },
      "source": [
        "train = pd.read_csv('train.csv')\n",
        "train.head(5)"
      ],
      "execution_count": 2,
      "outputs": [
        {
          "output_type": "execute_result",
          "data": {
            "text/html": [
              "<div>\n",
              "<style scoped>\n",
              "    .dataframe tbody tr th:only-of-type {\n",
              "        vertical-align: middle;\n",
              "    }\n",
              "\n",
              "    .dataframe tbody tr th {\n",
              "        vertical-align: top;\n",
              "    }\n",
              "\n",
              "    .dataframe thead th {\n",
              "        text-align: right;\n",
              "    }\n",
              "</style>\n",
              "<table border=\"1\" class=\"dataframe\">\n",
              "  <thead>\n",
              "    <tr style=\"text-align: right;\">\n",
              "      <th></th>\n",
              "      <th>id</th>\n",
              "      <th>keyword</th>\n",
              "      <th>location</th>\n",
              "      <th>text</th>\n",
              "      <th>target</th>\n",
              "    </tr>\n",
              "  </thead>\n",
              "  <tbody>\n",
              "    <tr>\n",
              "      <th>0</th>\n",
              "      <td>1</td>\n",
              "      <td>NaN</td>\n",
              "      <td>NaN</td>\n",
              "      <td>Our Deeds are the Reason of this #earthquake M...</td>\n",
              "      <td>1</td>\n",
              "    </tr>\n",
              "    <tr>\n",
              "      <th>1</th>\n",
              "      <td>4</td>\n",
              "      <td>NaN</td>\n",
              "      <td>NaN</td>\n",
              "      <td>Forest fire near La Ronge Sask. Canada</td>\n",
              "      <td>1</td>\n",
              "    </tr>\n",
              "    <tr>\n",
              "      <th>2</th>\n",
              "      <td>5</td>\n",
              "      <td>NaN</td>\n",
              "      <td>NaN</td>\n",
              "      <td>All residents asked to 'shelter in place' are ...</td>\n",
              "      <td>1</td>\n",
              "    </tr>\n",
              "    <tr>\n",
              "      <th>3</th>\n",
              "      <td>6</td>\n",
              "      <td>NaN</td>\n",
              "      <td>NaN</td>\n",
              "      <td>13,000 people receive #wildfires evacuation or...</td>\n",
              "      <td>1</td>\n",
              "    </tr>\n",
              "    <tr>\n",
              "      <th>4</th>\n",
              "      <td>7</td>\n",
              "      <td>NaN</td>\n",
              "      <td>NaN</td>\n",
              "      <td>Just got sent this photo from Ruby #Alaska as ...</td>\n",
              "      <td>1</td>\n",
              "    </tr>\n",
              "  </tbody>\n",
              "</table>\n",
              "</div>"
            ],
            "text/plain": [
              "   id keyword  ...                                               text target\n",
              "0   1     NaN  ...  Our Deeds are the Reason of this #earthquake M...      1\n",
              "1   4     NaN  ...             Forest fire near La Ronge Sask. Canada      1\n",
              "2   5     NaN  ...  All residents asked to 'shelter in place' are ...      1\n",
              "3   6     NaN  ...  13,000 people receive #wildfires evacuation or...      1\n",
              "4   7     NaN  ...  Just got sent this photo from Ruby #Alaska as ...      1\n",
              "\n",
              "[5 rows x 5 columns]"
            ]
          },
          "metadata": {
            "tags": []
          },
          "execution_count": 2
        }
      ]
    },
    {
      "cell_type": "code",
      "metadata": {
        "id": "fKyib9p8dWLu",
        "colab_type": "code",
        "colab": {
          "base_uri": "https://localhost:8080/",
          "height": 119
        },
        "outputId": "ce15f464-4027-495c-d43a-92c4ef1dd7a6"
      },
      "source": [
        "train.isna().sum()"
      ],
      "execution_count": 5,
      "outputs": [
        {
          "output_type": "execute_result",
          "data": {
            "text/plain": [
              "id             0\n",
              "keyword       61\n",
              "location    2533\n",
              "text           0\n",
              "target         0\n",
              "dtype: int64"
            ]
          },
          "metadata": {
            "tags": []
          },
          "execution_count": 5
        }
      ]
    },
    {
      "cell_type": "code",
      "metadata": {
        "id": "LP1ym6CxcznA",
        "colab_type": "code",
        "colab": {
          "base_uri": "https://localhost:8080/",
          "height": 68
        },
        "outputId": "ca8c217c-60e8-41c5-8ddb-255a61e4975a"
      },
      "source": [
        "train.target.value_counts(normalize=True)"
      ],
      "execution_count": 4,
      "outputs": [
        {
          "output_type": "execute_result",
          "data": {
            "text/plain": [
              "0    0.57034\n",
              "1    0.42966\n",
              "Name: target, dtype: float64"
            ]
          },
          "metadata": {
            "tags": []
          },
          "execution_count": 4
        }
      ]
    },
    {
      "cell_type": "code",
      "metadata": {
        "id": "MMA2YP5-dca3",
        "colab_type": "code",
        "colab": {}
      },
      "source": [
        "X,y = train.text,train.target\n",
        "X_train,X_val,y_train,y_val = train_test_split(X,y,\n",
        "                                               test_size=0.2,stratify=y,random_state=42)"
      ],
      "execution_count": 0,
      "outputs": []
    },
    {
      "cell_type": "code",
      "metadata": {
        "id": "5KMOVhMYj0bu",
        "colab_type": "code",
        "colab": {}
      },
      "source": [
        "train_size = X_train.shape[0]\n",
        "val_size = X_val.shape[0]"
      ],
      "execution_count": 0,
      "outputs": []
    },
    {
      "cell_type": "markdown",
      "metadata": {
        "id": "8cIhxk1cdo96",
        "colab_type": "text"
      },
      "source": [
        "## Building LSTM and embedding based classifier"
      ]
    },
    {
      "cell_type": "code",
      "metadata": {
        "id": "BW811JfIcerR",
        "colab_type": "code",
        "colab": {}
      },
      "source": [
        "dataset = tf.data.Dataset.from_tensor_slices((X_train,y_train))\n",
        "val_dataset = tf.data.Dataset.from_tensor_slices((X_val,y_val))"
      ],
      "execution_count": 0,
      "outputs": []
    },
    {
      "cell_type": "code",
      "metadata": {
        "id": "cqcnXquGc1eK",
        "colab_type": "code",
        "colab": {}
      },
      "source": [
        "def regexprocessing(X_batch,y_batch=None):\n",
        "  X_batch = tf.strings.substr(X_batch,0,100)\n",
        "  X_batch = tf.strings.regex_replace(X_batch,r'https?://\\S+|www\\.\\S+',b\" \")\n",
        "  X_batch = tf.strings.regex_replace(X_batch,r'<.*?>',b\" \")\n",
        "  X_batch = tf.strings.regex_replace(X_batch,r'[^\\w\\s]',b\"\")\n",
        "  X_batch = tf.strings.split(X_batch)\n",
        "  if y_batch !=None:\n",
        "    return X_batch.to_tensor(default_value=b\"<pad>\"), y_batch\n",
        "  else:\n",
        "    return X_batch.to_tensor(default_value=b\"<pad>\") "
      ],
      "execution_count": 0,
      "outputs": []
    },
    {
      "cell_type": "code",
      "metadata": {
        "id": "731NQSbydEcL",
        "colab_type": "code",
        "outputId": "818f56f7-4097-436d-dee7-be3569f656d2",
        "colab": {
          "base_uri": "https://localhost:8080/",
          "height": 139
        }
      },
      "source": [
        "for X_batch, y_batch in dataset.batch(2).take(1):\n",
        "    for review, label in zip(X_batch.numpy(), y_batch.numpy()):\n",
        "        print(\"Review:\", review.decode(\"utf-8\")[:200], \"...\")\n",
        "        print(\"Label:\", label, \"= Positive\" if label else \"= Negative\")\n",
        "        print()"
      ],
      "execution_count": 0,
      "outputs": [
        {
          "output_type": "stream",
          "text": [
            "Review: Trauma can happen anywhere -- school home etc. -- at any time. Learn the ABC's of trauma and how to parent... Û_ http://t.co/fMj8MXJY8a ...\n",
            "Label: 1 = Positive\n",
            "\n",
            "Review: @breakingnewslh @bree_mars watch cnn's the seventies terrorism episode. Iran has always hated the U.S. They want us obliterated. ...\n",
            "Label: 1 = Positive\n",
            "\n"
          ],
          "name": "stdout"
        }
      ]
    },
    {
      "cell_type": "code",
      "metadata": {
        "id": "rGrCvqIpdHTn",
        "colab_type": "code",
        "colab": {}
      },
      "source": [
        "from collections import Counter\n",
        "vocabulary = Counter()\n",
        "for X_batch, y_batch in dataset.batch(32).map(regexprocessing):\n",
        "    for review in X_batch:\n",
        "      vocabulary.update(list(review.numpy()))"
      ],
      "execution_count": 0,
      "outputs": []
    },
    {
      "cell_type": "code",
      "metadata": {
        "id": "Lnft0XQadUVJ",
        "colab_type": "code",
        "outputId": "3c4de7e9-83a5-4c65-9a29-c5d025a92a4b",
        "colab": {
          "base_uri": "https://localhost:8080/",
          "height": 34
        }
      },
      "source": [
        "vocabulary.most_common()[:3]"
      ],
      "execution_count": 0,
      "outputs": [
        {
          "output_type": "execute_result",
          "data": {
            "text/plain": [
              "[(b'<pad>', 54000), (b'the', 2109), (b'a', 1535)]"
            ]
          },
          "metadata": {
            "tags": []
          },
          "execution_count": 9
        }
      ]
    },
    {
      "cell_type": "code",
      "metadata": {
        "id": "HAnjecKZdi32",
        "colab_type": "code",
        "outputId": "d3cdb56f-57fc-4f4f-fb03-97c91a998200",
        "colab": {
          "base_uri": "https://localhost:8080/",
          "height": 34
        }
      },
      "source": [
        "len(vocabulary)"
      ],
      "execution_count": 0,
      "outputs": [
        {
          "output_type": "execute_result",
          "data": {
            "text/plain": [
              "19360"
            ]
          },
          "metadata": {
            "tags": []
          },
          "execution_count": 10
        }
      ]
    },
    {
      "cell_type": "code",
      "metadata": {
        "id": "3PsdLj6Sdmzm",
        "colab_type": "code",
        "colab": {}
      },
      "source": [
        "vocab_size = 10000\n",
        "truncated_vocabulary = [\n",
        "    word for word, count in vocabulary.most_common()[:vocab_size]]"
      ],
      "execution_count": 0,
      "outputs": []
    },
    {
      "cell_type": "code",
      "metadata": {
        "id": "A2ffUdUQd3HT",
        "colab_type": "code",
        "colab": {}
      },
      "source": [
        "words = tf.constant(truncated_vocabulary)\n",
        "word_ids = tf.range(len(truncated_vocabulary), dtype=tf.int64)\n",
        "vocab_init = tf.lookup.KeyValueTensorInitializer(words, word_ids)\n",
        "num_oov_buckets = 1000\n",
        "table = tf.lookup.StaticVocabularyTable(vocab_init, num_oov_buckets)"
      ],
      "execution_count": 0,
      "outputs": []
    },
    {
      "cell_type": "code",
      "metadata": {
        "id": "LWxH-zvxu9U8",
        "colab_type": "code",
        "colab": {}
      },
      "source": [
        "# embedding_dict={}\n",
        "# with open('glove.6B.100d.txt','r') as f:\n",
        "#     for line in f:\n",
        "#         values=line.split()\n",
        "#         word = values[0]\n",
        "#         vectors=np.asarray(values[1:],'float32')\n",
        "#         embedding_dict[word]=vectors\n"
      ],
      "execution_count": 0,
      "outputs": []
    },
    {
      "cell_type": "code",
      "metadata": {
        "id": "J2ohuAMdeBX9",
        "colab_type": "code",
        "colab": {}
      },
      "source": [
        "def encode_words(X_batch, y_batch):\n",
        "    return table.lookup(X_batch), y_batch\n",
        "batch_size = 32\n",
        "train_set = dataset.shuffle(5000).repeat().batch(batch_size).map(regexprocessing)\n",
        "train_set = train_set.map(encode_words).prefetch(1)\n",
        "val_set = val_dataset.shuffle(5000).repeat().batch(batch_size).map(regexprocessing)\n",
        "val_set = val_set.map(encode_words).prefetch(1)"
      ],
      "execution_count": 0,
      "outputs": []
    },
    {
      "cell_type": "code",
      "metadata": {
        "id": "HPBCbW7be3ty",
        "colab_type": "code",
        "outputId": "79ff2b5a-420e-4017-d887-af6ac3b3508c",
        "colab": {
          "base_uri": "https://localhost:8080/",
          "height": 102
        }
      },
      "source": [
        "for X_batch, y_batch in train_set.take(5):\n",
        "    print(X_batch.shape,y_batch.shape)\n",
        "    #print(y_batch)"
      ],
      "execution_count": 0,
      "outputs": [
        {
          "output_type": "stream",
          "text": [
            "(32, 21) (32,)\n",
            "(32, 21) (32,)\n",
            "(32, 20) (32,)\n",
            "(32, 22) (32,)\n",
            "(32, 21) (32,)\n"
          ],
          "name": "stdout"
        }
      ]
    },
    {
      "cell_type": "code",
      "metadata": {
        "id": "VVGhkTdciinv",
        "colab_type": "code",
        "outputId": "f4b399df-98dc-4e67-9b33-a1c328ba5478",
        "colab": {
          "base_uri": "https://localhost:8080/",
          "height": 207
        }
      },
      "source": [
        "embed_size = 128\n",
        "model = tf.keras.models.Sequential([\n",
        "        tf.keras.layers.Embedding(vocab_size+num_oov_buckets,embed_size,\n",
        "                           mask_zero = True,\n",
        "                           input_shape=[None]),\n",
        "        tf.keras.layers.LSTM(128,return_sequences=True),\n",
        "        tf.keras.layers.LSTM(128),\n",
        "        tf.keras.layers.Dense(1,activation='sigmoid')\n",
        "])\n",
        "num_epochs = 5\n",
        "model.compile(loss=\"binary_crossentropy\", optimizer=\"adam\", metrics=[\"accuracy\"])\n",
        "history = model.fit(train_set,steps_per_epoch = train_size// batch_size,epochs = num_epochs,\n",
        "                    validation_data=val_set, validation_steps = val_size //batch_size)"
      ],
      "execution_count": 0,
      "outputs": [
        {
          "output_type": "stream",
          "text": [
            "Epoch 1/5\n",
            "214/214 [==============================] - 7s 31ms/step - loss: 0.5224 - accuracy: 0.7453 - val_loss: 0.4692 - val_accuracy: 0.7853\n",
            "Epoch 2/5\n",
            "214/214 [==============================] - 5s 22ms/step - loss: 0.2959 - accuracy: 0.8846 - val_loss: 0.5698 - val_accuracy: 0.7568\n",
            "Epoch 3/5\n",
            "214/214 [==============================] - 5s 23ms/step - loss: 0.1795 - accuracy: 0.9368 - val_loss: 0.6913 - val_accuracy: 0.7364\n",
            "Epoch 4/5\n",
            "214/214 [==============================] - 5s 23ms/step - loss: 0.1125 - accuracy: 0.9648 - val_loss: 0.9281 - val_accuracy: 0.7486\n",
            "Epoch 5/5\n",
            "214/214 [==============================] - 5s 24ms/step - loss: 0.0705 - accuracy: 0.9749 - val_loss: 0.9734 - val_accuracy: 0.7310\n"
          ],
          "name": "stdout"
        }
      ]
    },
    {
      "cell_type": "code",
      "metadata": {
        "id": "WFZ_zAiplg6U",
        "colab_type": "code",
        "outputId": "e353f435-fe09-4639-e68d-fcbcb86448de",
        "colab": {
          "base_uri": "https://localhost:8080/",
          "height": 303
        }
      },
      "source": [
        "plt.plot(history.history['accuracy'])\n",
        "plt.plot(history.history['val_accuracy'])\n",
        "plt.xlabel('#Num Epochs')\n",
        "plt.ylabel('Accuracy')\n"
      ],
      "execution_count": 0,
      "outputs": [
        {
          "output_type": "execute_result",
          "data": {
            "text/plain": [
              "Text(0, 0.5, 'Accuracy')"
            ]
          },
          "metadata": {
            "tags": []
          },
          "execution_count": 26
        },
        {
          "output_type": "display_data",
          "data": {
            "image/png": "[encoded data removed]",
            "text/plain": [
              "<Figure size 432x288 with 1 Axes>"
            ]
          },
          "metadata": {
            "tags": [],
            "needs_background": "light"
          }
        }
      ]
    },
    {
      "cell_type": "code",
      "metadata": {
        "id": "4CM-nUabnvjU",
        "colab_type": "code",
        "outputId": "80655ad6-5815-4185-be3c-8a8c417378c2",
        "colab": {
          "base_uri": "https://localhost:8080/",
          "height": 304
        }
      },
      "source": [
        "plt.plot(history.history['loss'])\n",
        "plt.plot(history.history['val_loss'])\n",
        "plt.xlabel('#Num Epochs')\n",
        "plt.ylabel('loss')"
      ],
      "execution_count": 0,
      "outputs": [
        {
          "output_type": "execute_result",
          "data": {
            "text/plain": [
              "Text(0, 0.5, 'loss')"
            ]
          },
          "metadata": {
            "tags": []
          },
          "execution_count": 27
        },
        {
          "output_type": "display_data",
          "data": {
            "image/png": "[encoded data removed]",
            "text/plain": [
              "<Figure size 432x288 with 1 Axes>"
            ]
          },
          "metadata": {
            "tags": [],
            "needs_background": "light"
          }
        }
      ]
    },
    {
      "cell_type": "markdown",
      "metadata": {
        "id": "ERCe9GQOC2E_",
        "colab_type": "text"
      },
      "source": [
        "##USING BERT from Tensorflow Hub"
      ]
    },
    {
      "cell_type": "code",
      "metadata": {
        "id": "cx57BcqGDB2J",
        "colab_type": "code",
        "colab": {}
      },
      "source": [
        "!wget --quiet https://raw.githubusercontent.com/tensorflow/models/master/official/nlp/bert/tokenization.py"
      ],
      "execution_count": 0,
      "outputs": []
    },
    {
      "cell_type": "code",
      "metadata": {
        "id": "3rCGZ7CLDM1I",
        "colab_type": "code",
        "outputId": "dfb5675d-6be3-4538-bb07-b316e0cd1b73",
        "colab": {
          "base_uri": "https://localhost:8080/",
          "height": 122
        }
      },
      "source": [
        "!pip install sentencepiece"
      ],
      "execution_count": 9,
      "outputs": [
        {
          "output_type": "stream",
          "text": [
            "Collecting sentencepiece\n",
            "\u001b[?25l  Downloading https://files.pythonhosted.org/packages/74/f4/2d5214cbf13d06e7cb2c20d84115ca25b53ea76fa1f0ade0e3c9749de214/sentencepiece-0.1.85-cp36-cp36m-manylinux1_x86_64.whl (1.0MB)\n",
            "\r\u001b[K     |▎                               | 10kB 24.2MB/s eta 0:00:01\r\u001b[K     |▋                               | 20kB 3.2MB/s eta 0:00:01\r\u001b[K     |█                               | 30kB 4.6MB/s eta 0:00:01\r\u001b[K     |█▎                              | 40kB 3.1MB/s eta 0:00:01\r\u001b[K     |█▋                              | 51kB 3.8MB/s eta 0:00:01\r\u001b[K     |██                              | 61kB 4.5MB/s eta 0:00:01\r\u001b[K     |██▏                             | 71kB 5.1MB/s eta 0:00:01\r\u001b[K     |██▌                             | 81kB 4.0MB/s eta 0:00:01\r\u001b[K     |██▉                             | 92kB 4.5MB/s eta 0:00:01\r\u001b[K     |███▏                            | 102kB 4.9MB/s eta 0:00:01\r\u001b[K     |███▌                            | 112kB 4.9MB/s eta 0:00:01\r\u001b[K     |███▉                            | 122kB 4.9MB/s eta 0:00:01\r\u001b[K     |████                            | 133kB 4.9MB/s eta 0:00:01\r\u001b[K     |████▍                           | 143kB 4.9MB/s eta 0:00:01\r\u001b[K     |████▊                           | 153kB 4.9MB/s eta 0:00:01\r\u001b[K     |█████                           | 163kB 4.9MB/s eta 0:00:01\r\u001b[K     |█████▍                          | 174kB 4.9MB/s eta 0:00:01\r\u001b[K     |█████▊                          | 184kB 4.9MB/s eta 0:00:01\r\u001b[K     |██████                          | 194kB 4.9MB/s eta 0:00:01\r\u001b[K     |██████▎                         | 204kB 4.9MB/s eta 0:00:01\r\u001b[K     |██████▋                         | 215kB 4.9MB/s eta 0:00:01\r\u001b[K     |███████                         | 225kB 4.9MB/s eta 0:00:01\r\u001b[K     |███████▎                        | 235kB 4.9MB/s eta 0:00:01\r\u001b[K     |███████▋                        | 245kB 4.9MB/s eta 0:00:01\r\u001b[K     |███████▉                        | 256kB 4.9MB/s eta 0:00:01\r\u001b[K     |████████▏                       | 266kB 4.9MB/s eta 0:00:01\r\u001b[K     |████████▌                       | 276kB 4.9MB/s eta 0:00:01\r\u001b[K     |████████▉                       | 286kB 4.9MB/s eta 0:00:01\r\u001b[K     |█████████▏                      | 296kB 4.9MB/s eta 0:00:01\r\u001b[K     |█████████▌                      | 307kB 4.9MB/s eta 0:00:01\r\u001b[K     |█████████▊                      | 317kB 4.9MB/s eta 0:00:01\r\u001b[K     |██████████                      | 327kB 4.9MB/s eta 0:00:01\r\u001b[K     |██████████▍                     | 337kB 4.9MB/s eta 0:00:01\r\u001b[K     |██████████▊                     | 348kB 4.9MB/s eta 0:00:01\r\u001b[K     |███████████                     | 358kB 4.9MB/s eta 0:00:01\r\u001b[K     |███████████▍                    | 368kB 4.9MB/s eta 0:00:01\r\u001b[K     |███████████▋                    | 378kB 4.9MB/s eta 0:00:01\r\u001b[K     |████████████                    | 389kB 4.9MB/s eta 0:00:01\r\u001b[K     |████████████▎                   | 399kB 4.9MB/s eta 0:00:01\r\u001b[K     |████████████▋                   | 409kB 4.9MB/s eta 0:00:01\r\u001b[K     |█████████████                   | 419kB 4.9MB/s eta 0:00:01\r\u001b[K     |█████████████▎                  | 430kB 4.9MB/s eta 0:00:01\r\u001b[K     |█████████████▌                  | 440kB 4.9MB/s eta 0:00:01\r\u001b[K     |█████████████▉                  | 450kB 4.9MB/s eta 0:00:01\r\u001b[K     |██████████████▏                 | 460kB 4.9MB/s eta 0:00:01\r\u001b[K     |██████████████▌                 | 471kB 4.9MB/s eta 0:00:01\r\u001b[K     |██████████████▉                 | 481kB 4.9MB/s eta 0:00:01\r\u001b[K     |███████████████▏                | 491kB 4.9MB/s eta 0:00:01\r\u001b[K     |███████████████▍                | 501kB 4.9MB/s eta 0:00:01\r\u001b[K     |███████████████▊                | 512kB 4.9MB/s eta 0:00:01\r\u001b[K     |████████████████                | 522kB 4.9MB/s eta 0:00:01\r\u001b[K     |████████████████▍               | 532kB 4.9MB/s eta 0:00:01\r\u001b[K     |████████████████▊               | 542kB 4.9MB/s eta 0:00:01\r\u001b[K     |█████████████████               | 552kB 4.9MB/s eta 0:00:01\r\u001b[K     |█████████████████▎              | 563kB 4.9MB/s eta 0:00:01\r\u001b[K     |█████████████████▋              | 573kB 4.9MB/s eta 0:00:01\r\u001b[K     |██████████████████              | 583kB 4.9MB/s eta 0:00:01\r\u001b[K     |██████████████████▎             | 593kB 4.9MB/s eta 0:00:01\r\u001b[K     |██████████████████▋             | 604kB 4.9MB/s eta 0:00:01\r\u001b[K     |███████████████████             | 614kB 4.9MB/s eta 0:00:01\r\u001b[K     |███████████████████▏            | 624kB 4.9MB/s eta 0:00:01\r\u001b[K     |███████████████████▌            | 634kB 4.9MB/s eta 0:00:01\r\u001b[K     |███████████████████▉            | 645kB 4.9MB/s eta 0:00:01\r\u001b[K     |████████████████████▏           | 655kB 4.9MB/s eta 0:00:01\r\u001b[K     |████████████████████▌           | 665kB 4.9MB/s eta 0:00:01\r\u001b[K     |████████████████████▉           | 675kB 4.9MB/s eta 0:00:01\r\u001b[K     |█████████████████████▏          | 686kB 4.9MB/s eta 0:00:01\r\u001b[K     |█████████████████████▍          | 696kB 4.9MB/s eta 0:00:01\r\u001b[K     |█████████████████████▊          | 706kB 4.9MB/s eta 0:00:01\r\u001b[K     |██████████████████████          | 716kB 4.9MB/s eta 0:00:01\r\u001b[K     |██████████████████████▍         | 727kB 4.9MB/s eta 0:00:01\r\u001b[K     |██████████████████████▊         | 737kB 4.9MB/s eta 0:00:01\r\u001b[K     |███████████████████████         | 747kB 4.9MB/s eta 0:00:01\r\u001b[K     |███████████████████████▎        | 757kB 4.9MB/s eta 0:00:01\r\u001b[K     |███████████████████████▋        | 768kB 4.9MB/s eta 0:00:01\r\u001b[K     |████████████████████████        | 778kB 4.9MB/s eta 0:00:01\r\u001b[K     |████████████████████████▎       | 788kB 4.9MB/s eta 0:00:01\r\u001b[K     |████████████████████████▋       | 798kB 4.9MB/s eta 0:00:01\r\u001b[K     |█████████████████████████       | 808kB 4.9MB/s eta 0:00:01\r\u001b[K     |█████████████████████████▏      | 819kB 4.9MB/s eta 0:00:01\r\u001b[K     |█████████████████████████▌      | 829kB 4.9MB/s eta 0:00:01\r\u001b[K     |█████████████████████████▉      | 839kB 4.9MB/s eta 0:00:01\r\u001b[K     |██████████████████████████▏     | 849kB 4.9MB/s eta 0:00:01\r\u001b[K     |██████████████████████████▌     | 860kB 4.9MB/s eta 0:00:01\r\u001b[K     |██████████████████████████▉     | 870kB 4.9MB/s eta 0:00:01\r\u001b[K     |███████████████████████████     | 880kB 4.9MB/s eta 0:00:01\r\u001b[K     |███████████████████████████▍    | 890kB 4.9MB/s eta 0:00:01\r\u001b[K     |███████████████████████████▊    | 901kB 4.9MB/s eta 0:00:01\r\u001b[K     |████████████████████████████    | 911kB 4.9MB/s eta 0:00:01\r\u001b[K     |████████████████████████████▍   | 921kB 4.9MB/s eta 0:00:01\r\u001b[K     |████████████████████████████▊   | 931kB 4.9MB/s eta 0:00:01\r\u001b[K     |█████████████████████████████   | 942kB 4.9MB/s eta 0:00:01\r\u001b[K     |█████████████████████████████▎  | 952kB 4.9MB/s eta 0:00:01\r\u001b[K     |█████████████████████████████▋  | 962kB 4.9MB/s eta 0:00:01\r\u001b[K     |██████████████████████████████  | 972kB 4.9MB/s eta 0:00:01\r\u001b[K     |██████████████████████████████▎ | 983kB 4.9MB/s eta 0:00:01\r\u001b[K     |██████████████████████████████▋ | 993kB 4.9MB/s eta 0:00:01\r\u001b[K     |██████████████████████████████▉ | 1.0MB 4.9MB/s eta 0:00:01\r\u001b[K     |███████████████████████████████▏| 1.0MB 4.9MB/s eta 0:00:01\r\u001b[K     |███████████████████████████████▌| 1.0MB 4.9MB/s eta 0:00:01\r\u001b[K     |███████████████████████████████▉| 1.0MB 4.9MB/s eta 0:00:01\r\u001b[K     |████████████████████████████████| 1.0MB 4.9MB/s \n",
            "\u001b[?25hInstalling collected packages: sentencepiece\n",
            "Successfully installed sentencepiece-0.1.85\n"
          ],
          "name": "stdout"
        }
      ]
    },
    {
      "cell_type": "code",
      "metadata": {
        "id": "qyXI3DEBn3LY",
        "colab_type": "code",
        "colab": {}
      },
      "source": [
        "import tensorflow_hub as hub\n",
        "import tokenization\n",
        "import re\n",
        "import string"
      ],
      "execution_count": 0,
      "outputs": []
    },
    {
      "cell_type": "code",
      "metadata": {
        "id": "3tvd64EgCujy",
        "colab_type": "code",
        "colab": {}
      },
      "source": [
        "url = \"https://tfhub.dev/tensorflow/bert_en_uncased_L-24_H-1024_A-16/1\" "
      ],
      "execution_count": 0,
      "outputs": []
    },
    {
      "cell_type": "code",
      "metadata": {
        "id": "t4PveXWwCyk9",
        "colab_type": "code",
        "colab": {}
      },
      "source": [
        "bert_layer = hub.KerasLayer(url)"
      ],
      "execution_count": 0,
      "outputs": []
    },
    {
      "cell_type": "code",
      "metadata": {
        "id": "Ixd_Dy4gGJbd",
        "colab_type": "code",
        "colab": {}
      },
      "source": [
        "vocab_file = bert_layer.resolved_object.vocab_file.asset_path.numpy()\n",
        "do_lower_case = bert_layer.resolved_object.do_lower_case.numpy()\n",
        "tokenizer = tokenization.FullTokenizer(vocab_file, do_lower_case)"
      ],
      "execution_count": 0,
      "outputs": []
    },
    {
      "cell_type": "code",
      "metadata": {
        "id": "0if93ifM7IAm",
        "colab_type": "code",
        "colab": {}
      },
      "source": [
        "def remove_URL(text):\n",
        "    url = re.compile(r'https?://\\S+|www\\.\\S+')\n",
        "    return url.sub(r'',text)\n",
        "def remove_html(text):\n",
        "    html=re.compile(r'<.*?>')\n",
        "    return html.sub(r'',text)\n",
        "def remove_punct(text):\n",
        "    table=str.maketrans('','',string.punctuation)\n",
        "    return text.translate(table)"
      ],
      "execution_count": 0,
      "outputs": []
    },
    {
      "cell_type": "code",
      "metadata": {
        "id": "EUsOW7k_8Zkn",
        "colab_type": "code",
        "colab": {}
      },
      "source": [
        "def regexprocessing(text):\n",
        "  max_len = 50\n",
        "  text = remove_URL(text)\n",
        "  text = remove_html(text)\n",
        "  text = remove_punct(text)\n",
        "  return text\n",
        "\n",
        "def bert_encoding(texts,tokenizer,max_len=150):\n",
        "  all_tokens = []\n",
        "  all_masks = []\n",
        "  all_segments = []\n",
        "\n",
        "  for text in texts:\n",
        "    text = tokenizer.tokenize(text)\n",
        "    text = text[:max_len-2]\n",
        "    ip_sequence = [\"[CLS]\"] + text + [\"[SEP]\"]\n",
        "    pad_len = max_len - len(ip_sequence)\n",
        "    tokens = tokenizer.convert_tokens_to_ids(ip_sequence)\n",
        "    tokens += [0] * pad_len\n",
        "    pad_masks = [1] * len(ip_sequence) + [0] * pad_len\n",
        "    segment_ids = [0] * max_len\n",
        "\n",
        "    all_tokens.append(tokens)\n",
        "    all_masks.append(pad_masks)\n",
        "    all_segments.append(segment_ids)\n",
        "  return np.array(all_tokens),np.array(all_masks),np.array(all_segments)\n"
      ],
      "execution_count": 0,
      "outputs": []
    },
    {
      "cell_type": "code",
      "metadata": {
        "id": "YTaXjsozJrhm",
        "colab_type": "code",
        "colab": {}
      },
      "source": [
        "train_bert_encoded = bert_encoding(X_train.apply(regexprocessing).values,tokenizer,50)\n",
        "val_bert_encoded = bert_encoding(X_val.apply(regexprocessing).values,tokenizer,50)"
      ],
      "execution_count": 0,
      "outputs": []
    },
    {
      "cell_type": "code",
      "metadata": {
        "id": "nA5hLdtOLK1q",
        "colab_type": "code",
        "colab": {}
      },
      "source": [
        "dataset = tf.data.Dataset.from_tensor_slices((train_bert_encoded,y_train))\n",
        "val_dataset = tf.data.Dataset.from_tensor_slices((val_bert_encoded,y_val))"
      ],
      "execution_count": 0,
      "outputs": []
    },
    {
      "cell_type": "code",
      "metadata": {
        "id": "eGYTReDK7ohO",
        "colab_type": "code",
        "colab": {}
      },
      "source": [
        "def build_model(bert_layer,max_len=150):\n",
        "  input_word_ids = tf.keras.layers.Input(shape=(max_len,), dtype=tf.int32)\n",
        "  input_mask = tf.keras.layers.Input(shape=(max_len,), dtype=tf.int32)\n",
        "  segment_ids = tf.keras.layers.Input(shape=(max_len,), dtype=tf.int32)\n",
        "\n",
        "  _, sequence_output = bert_layer([input_word_ids, input_mask, segment_ids])\n",
        "  clf_output = tf.keras.layers.GlobalAveragePooling1D()(sequence_output)#sequence_output[:, 0, :]\n",
        "\n",
        "  out = tf.keras.layers.Dense(1, activation='sigmoid')(clf_output)\n",
        "  model = tf.keras.Model(inputs=[input_word_ids, input_mask, segment_ids], outputs=out)\n",
        "  model.compile(optimizer=tf.keras.optimizers.Adam(), loss='binary_crossentropy', metrics=['accuracy'])\n",
        "   \n",
        "  return model\n"
      ],
      "execution_count": 0,
      "outputs": []
    },
    {
      "cell_type": "code",
      "metadata": {
        "id": "oT1JH4AJS2V2",
        "colab_type": "code",
        "outputId": "a0bcb66c-0174-4c61-ea0e-e4dcdc455821",
        "colab": {
          "base_uri": "https://localhost:8080/",
          "height": 391
        }
      },
      "source": [
        "model = build_model(bert_layer,50)\n",
        "model.summary()"
      ],
      "execution_count": 21,
      "outputs": [
        {
          "output_type": "stream",
          "text": [
            "Model: \"model\"\n",
            "__________________________________________________________________________________________________\n",
            "Layer (type)                    Output Shape         Param #     Connected to                     \n",
            "==================================================================================================\n",
            "input_4 (InputLayer)            [(None, 50)]         0                                            \n",
            "__________________________________________________________________________________________________\n",
            "input_5 (InputLayer)            [(None, 50)]         0                                            \n",
            "__________________________________________________________________________________________________\n",
            "input_6 (InputLayer)            [(None, 50)]         0                                            \n",
            "__________________________________________________________________________________________________\n",
            "keras_layer (KerasLayer)        [(None, 1024), (None 335141889   input_4[0][0]                    \n",
            "                                                                 input_5[0][0]                    \n",
            "                                                                 input_6[0][0]                    \n",
            "__________________________________________________________________________________________________\n",
            "global_average_pooling1d_1 (Glo (None, 1024)         0           keras_layer[1][1]                \n",
            "__________________________________________________________________________________________________\n",
            "dense (Dense)                   (None, 1)            1025        global_average_pooling1d_1[0][0] \n",
            "==================================================================================================\n",
            "Total params: 335,142,914\n",
            "Trainable params: 1,025\n",
            "Non-trainable params: 335,141,889\n",
            "__________________________________________________________________________________________________\n"
          ],
          "name": "stdout"
        }
      ]
    },
    {
      "cell_type": "code",
      "metadata": {
        "id": "v4KU2gc6rVk_",
        "colab_type": "code",
        "colab": {}
      },
      "source": [
        "batch_size = 32\n",
        "train_set = dataset.shuffle(1000).repeat().batch(32).prefetch(1)\n",
        "val_set= val_dataset.shuffle(1000).repeat().batch(32).prefetch(1)"
      ],
      "execution_count": 0,
      "outputs": []
    },
    {
      "cell_type": "code",
      "metadata": {
        "id": "2AL_FmJGrYZP",
        "colab_type": "code",
        "colab": {
          "base_uri": "https://localhost:8080/",
          "height": 221
        },
        "outputId": "c8a91bb8-8271-49a8-a95a-d80f89a71d97"
      },
      "source": [
        "num_epochs = 6\n",
        "history = model.fit(train_set,steps_per_epoch = train_size// batch_size,epochs = num_epochs,\n",
        "                    validation_data=val_set, validation_steps = val_size //batch_size)"
      ],
      "execution_count": 23,
      "outputs": [
        {
          "output_type": "stream",
          "text": [
            "Epoch 1/6\n",
            "190/190 [==============================] - 48s 252ms/step - loss: 0.5182 - accuracy: 0.7507 - val_loss: 0.4447 - val_accuracy: 0.8085\n",
            "Epoch 2/6\n",
            "190/190 [==============================] - 45s 239ms/step - loss: 0.4402 - accuracy: 0.8058 - val_loss: 0.4215 - val_accuracy: 0.8231\n",
            "Epoch 3/6\n",
            "190/190 [==============================] - 46s 239ms/step - loss: 0.4227 - accuracy: 0.8161 - val_loss: 0.4099 - val_accuracy: 0.8278\n",
            "Epoch 4/6\n",
            "190/190 [==============================] - 45s 239ms/step - loss: 0.4117 - accuracy: 0.8224 - val_loss: 0.4081 - val_accuracy: 0.8331\n",
            "Epoch 5/6\n",
            "190/190 [==============================] - 45s 239ms/step - loss: 0.4074 - accuracy: 0.8219 - val_loss: 0.4048 - val_accuracy: 0.8351\n",
            "Epoch 6/6\n",
            "190/190 [==============================] - 45s 239ms/step - loss: 0.3995 - accuracy: 0.8281 - val_loss: 0.4077 - val_accuracy: 0.8285\n"
          ],
          "name": "stdout"
        }
      ]
    },
    {
      "cell_type": "code",
      "metadata": {
        "id": "b8FF3ZFG7oGP",
        "colab_type": "code",
        "colab": {}
      },
      "source": [
        "test_data = pd.read_csv('test.csv')"
      ],
      "execution_count": 0,
      "outputs": []
    },
    {
      "cell_type": "code",
      "metadata": {
        "id": "KgKb2KhQ7FFM",
        "colab_type": "code",
        "colab": {}
      },
      "source": [
        "X_test = test_data.text"
      ],
      "execution_count": 0,
      "outputs": []
    },
    {
      "cell_type": "code",
      "metadata": {
        "id": "t_IvnkuMFkHk",
        "colab_type": "code",
        "colab": {}
      },
      "source": [
        "test_bert_encoded = bert_encoding(X_test.apply(regexprocessing).values,tokenizer,50)"
      ],
      "execution_count": 0,
      "outputs": []
    },
    {
      "cell_type": "code",
      "metadata": {
        "id": "aeuZ-lMGU-jy",
        "colab_type": "code",
        "colab": {}
      },
      "source": [
        "test_pred = model.predict(test_bert_encoded)"
      ],
      "execution_count": 0,
      "outputs": []
    },
    {
      "cell_type": "code",
      "metadata": {
        "id": "0hfcNZ-FVDb_",
        "colab_type": "code",
        "outputId": "7afa051f-763b-4cb3-e326-cd752e2aadba",
        "colab": {
          "base_uri": "https://localhost:8080/",
          "height": 136
        }
      },
      "source": [
        "test_pred"
      ],
      "execution_count": 28,
      "outputs": [
        {
          "output_type": "execute_result",
          "data": {
            "text/plain": [
              "array([[0.31723318],\n",
              "       [0.9850427 ],\n",
              "       [0.7980041 ],\n",
              "       ...,\n",
              "       [0.9943844 ],\n",
              "       [0.7365942 ],\n",
              "       [0.7862955 ]], dtype=float32)"
            ]
          },
          "metadata": {
            "tags": []
          },
          "execution_count": 28
        }
      ]
    },
    {
      "cell_type": "code",
      "metadata": {
        "id": "AtHBuXXHYfZI",
        "colab_type": "code",
        "colab": {}
      },
      "source": [
        "submission = pd.read_csv('sample_submission.csv')"
      ],
      "execution_count": 0,
      "outputs": []
    },
    {
      "cell_type": "code",
      "metadata": {
        "id": "heRlh5orYo0D",
        "colab_type": "code",
        "colab": {}
      },
      "source": [
        "submission.target = test_pred.round().astype(int)"
      ],
      "execution_count": 0,
      "outputs": []
    },
    {
      "cell_type": "code",
      "metadata": {
        "id": "rX9zIakXeiKP",
        "colab_type": "code",
        "colab": {}
      },
      "source": [
        "submission.to_csv('submission.csv', index=False)"
      ],
      "execution_count": 0,
      "outputs": []
    },
    {
      "cell_type": "code",
      "metadata": {
        "id": "IrjW3xMzZt-6",
        "colab_type": "code",
        "outputId": "2b71ecdc-4ef0-491f-8fde-48aed1131284",
        "colab": {
          "base_uri": "https://localhost:8080/",
          "height": 204
        }
      },
      "source": [
        "submission.head()"
      ],
      "execution_count": 32,
      "outputs": [
        {
          "output_type": "execute_result",
          "data": {
            "text/html": [
              "<div>\n",
              "<style scoped>\n",
              "    .dataframe tbody tr th:only-of-type {\n",
              "        vertical-align: middle;\n",
              "    }\n",
              "\n",
              "    .dataframe tbody tr th {\n",
              "        vertical-align: top;\n",
              "    }\n",
              "\n",
              "    .dataframe thead th {\n",
              "        text-align: right;\n",
              "    }\n",
              "</style>\n",
              "<table border=\"1\" class=\"dataframe\">\n",
              "  <thead>\n",
              "    <tr style=\"text-align: right;\">\n",
              "      <th></th>\n",
              "      <th>id</th>\n",
              "      <th>target</th>\n",
              "    </tr>\n",
              "  </thead>\n",
              "  <tbody>\n",
              "    <tr>\n",
              "      <th>0</th>\n",
              "      <td>0</td>\n",
              "      <td>0</td>\n",
              "    </tr>\n",
              "    <tr>\n",
              "      <th>1</th>\n",
              "      <td>2</td>\n",
              "      <td>1</td>\n",
              "    </tr>\n",
              "    <tr>\n",
              "      <th>2</th>\n",
              "      <td>3</td>\n",
              "      <td>1</td>\n",
              "    </tr>\n",
              "    <tr>\n",
              "      <th>3</th>\n",
              "      <td>9</td>\n",
              "      <td>1</td>\n",
              "    </tr>\n",
              "    <tr>\n",
              "      <th>4</th>\n",
              "      <td>11</td>\n",
              "      <td>1</td>\n",
              "    </tr>\n",
              "  </tbody>\n",
              "</table>\n",
              "</div>"
            ],
            "text/plain": [
              "   id  target\n",
              "0   0       0\n",
              "1   2       1\n",
              "2   3       1\n",
              "3   9       1\n",
              "4  11       1"
            ]
          },
          "metadata": {
            "tags": []
          },
          "execution_count": 32
        }
      ]
    }
  ]
}